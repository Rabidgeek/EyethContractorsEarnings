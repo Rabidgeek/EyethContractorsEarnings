{
  "cells": [
    {
      "cell_type": "markdown",
      "metadata": {
        "id": "view-in-github",
        "colab_type": "text"
      },
      "source": [
        "<a href=\"https://colab.research.google.com/github/Rabidgeek/EyethContractorsEarnings/blob/main/ES_bank_earnings.ipynb\" target=\"_parent\"><img src=\"https://colab.research.google.com/assets/colab-badge.svg\" alt=\"Open In Colab\"/></a>"
      ]
    },
    {
      "cell_type": "markdown",
      "source": [
        "# **Exploratory Data Analysis and Wrangling:**\n",
        "Processing a CSV file from Self Help Bank's BillPay Feature for one year's worth of payments to contractors for Eyeth Studios. \n",
        "\n",
        "`Written by Jesse Ragsdale 01/23/2023`"
      ],
      "metadata": {
        "id": "XNRP_VWovsom"
      },
      "id": "XNRP_VWovsom"
    },
    {
      "cell_type": "code",
      "execution_count": null,
      "id": "limited-parent",
      "metadata": {
        "id": "limited-parent"
      },
      "outputs": [],
      "source": [
        "# Import Libraries\n",
        "import numpy as np\n",
        "import pandas as pd"
      ]
    },
    {
      "cell_type": "code",
      "execution_count": null,
      "id": "expensive-latino",
      "metadata": {
        "id": "expensive-latino"
      },
      "outputs": [],
      "source": [
        "# Assign filepath \n",
        "filepath = \"PaymentHistory.csv\""
      ]
    },
    {
      "cell_type": "code",
      "execution_count": null,
      "id": "marine-entrance",
      "metadata": {
        "id": "marine-entrance"
      },
      "outputs": [],
      "source": [
        "# Clean DataFrame, do Exploratory Data Analysis\n",
        "def wrangle(data):\n",
        "    # Import Data\n",
        "    df = pd.read_csv(filepath,\n",
        "                parse_dates=['Deliver by'],\n",
        "                index_col=['Deliver by'])\n",
        "    # Drop Columns\n",
        "    drop = ['PaymentMethod', 'Pay From', 'Fee', 'Process Date', 'Delivery', \n",
        "            'Confirmation Number','Memo', 'Status', 'Check Number']\n",
        "    df = df.drop(columns=drop)\n",
        "    \n",
        "    return df\n",
        "\n",
        "df = wrangle(filepath)\n",
        "\n",
        "df.head()"
      ]
    },
    {
      "cell_type": "code",
      "execution_count": null,
      "id": "forbidden-separate",
      "metadata": {
        "id": "forbidden-separate"
      },
      "outputs": [],
      "source": [
        "# Create DataFrame of Contractors' Names and their total earnings for 2022\n",
        "contractors = pd.DataFrame(df.groupby([\"Pay to\"]).Amount.sum())\n",
        "\n",
        "contractors.head()"
      ]
    },
    {
      "cell_type": "code",
      "execution_count": null,
      "id": "happy-livestock",
      "metadata": {
        "id": "happy-livestock"
      },
      "outputs": [],
      "source": [
        "# Print a list of how many payments were made to each individual in 2022\n",
        "df['Pay to'].value_counts()"
      ]
    },
    {
      "cell_type": "code",
      "execution_count": null,
      "id": "noted-overview",
      "metadata": {
        "id": "noted-overview"
      },
      "outputs": [],
      "source": [
        "contractors.to_excel('contractor_2022_earnings.xlsx')"
      ]
    }
  ],
  "metadata": {
    "kernelspec": {
      "display_name": "Python 3",
      "language": "python",
      "name": "python3"
    },
    "language_info": {
      "codemirror_mode": {
        "name": "ipython",
        "version": 3
      },
      "file_extension": ".py",
      "mimetype": "text/x-python",
      "name": "python",
      "nbconvert_exporter": "python",
      "pygments_lexer": "ipython3",
      "version": "3.9.7"
    },
    "colab": {
      "provenance": [],
      "include_colab_link": true
    }
  },
  "nbformat": 4,
  "nbformat_minor": 5
}